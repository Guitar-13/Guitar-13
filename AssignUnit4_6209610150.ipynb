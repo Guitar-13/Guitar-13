{
  "nbformat": 4,
  "nbformat_minor": 0,
  "metadata": {
    "colab": {
      "provenance": [],
      "authorship_tag": "ABX9TyMkHFORFGiMJasKfWd3XzY9",
      "include_colab_link": true
    },
    "kernelspec": {
      "name": "python3",
      "display_name": "Python 3"
    },
    "language_info": {
      "name": "python"
    }
  },
  "cells": [
    {
      "cell_type": "markdown",
      "metadata": {
        "id": "view-in-github",
        "colab_type": "text"
      },
      "source": [
        "<a href=\"https://colab.research.google.com/github/Guitar-13/Guitar-13/blob/main/AssignUnit4_6209610150.ipynb\" target=\"_parent\"><img src=\"https://colab.research.google.com/assets/colab-badge.svg\" alt=\"Open In Colab\"/></a>"
      ]
    },
    {
      "cell_type": "code",
      "execution_count": null,
      "metadata": {
        "colab": {
          "base_uri": "https://localhost:8080/"
        },
        "id": "uPpuoVbR3M3J",
        "outputId": "016feff1-c172-4901-9d82-b40749486e64"
      },
      "outputs": [
        {
          "output_type": "stream",
          "name": "stdout",
          "text": [
            "Please Enter salary\n",
            "500000\n",
            "Pease input raisingChild\n",
            "100000\n",
            "Please input donation\n",
            "10000\n",
            "Tax 7% =  27300.0\n"
          ]
        }
      ],
      "source": [
        "\n",
        "print(\"Please input salary\"); \n",
        "salary = int(input());\n",
        "print(\"Pease input raisingChild\");\n",
        "raisingChild = int(input());\n",
        "print(\"Please input donation\");\n",
        "donation = int(input());\n",
        "\n",
        "netIncome = salary - (raisingChild + donation);\n",
        "\n",
        "if netIncome < 200000 :\n",
        "  print(\"No Tax\");\n",
        "if netIncome >= 200000 and netIncome < 500000:\n",
        "  print(\"Tax 7% = \", (netIncome * 7 /100));\n",
        "if netIncome >= 500000 and netIncome < 1000000:\n",
        "  print(\"Tax 20% = \", (netIncome * 20 / 100));\n",
        "if netIncome >= 1000000: \n",
        "  print(\"Tax 30% = \",(netIncome * 30 /100));"
      ]
    },
    {
      "cell_type": "code",
      "source": [
        "number = int(input(\"Please Enter number\"));\n",
        "if number%3 == 0 and number%5 == 0:\n",
        "  print(\"3 , 5\");\n",
        "if number%3 == 0 and number%5 != 0:\n",
        "  print(\"3\");\n",
        "if number%3 != 0 and number%5 == 0:\n",
        "  print(\"5\");"
      ],
      "metadata": {
        "id": "spOXthF39I52"
      },
      "execution_count": null,
      "outputs": []
    },
    {
      "cell_type": "code",
      "source": [],
      "metadata": {
        "id": "-xhW6OE--ZWO"
      },
      "execution_count": null,
      "outputs": []
    }
  ]
}